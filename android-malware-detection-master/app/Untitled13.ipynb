{
 "cells": [
  {
   "cell_type": "code",
   "execution_count": 1,
   "id": "d9e72526",
   "metadata": {},
   "outputs": [
    {
     "name": "stdout",
     "output_type": "stream",
     "text": [
      "directory exists\n",
      " * Serving Flask app \"__main__\" (lazy loading)\n",
      " * Environment: production\n",
      "\u001b[31m   WARNING: This is a development server. Do not use it in a production deployment.\u001b[0m\n",
      "\u001b[2m   Use a production WSGI server instead.\u001b[0m\n",
      " * Debug mode: on\n"
     ]
    },
    {
     "name": "stderr",
     "output_type": "stream",
     "text": [
      "C:\\Users\\adipr\\anaconda3\\lib\\site-packages\\sklearn\\base.py:310: UserWarning: Trying to unpickle estimator SVC from version 0.22.2.post1 when using version 0.24.2. This might lead to breaking code or invalid results. Use at your own risk.\n",
      "  warnings.warn(\n",
      " * Restarting with watchdog (windowsapi)\n"
     ]
    },
    {
     "ename": "SystemExit",
     "evalue": "1",
     "output_type": "error",
     "traceback": [
      "An exception has occurred, use %tb to see the full traceback.\n",
      "\u001b[1;31mSystemExit\u001b[0m\u001b[1;31m:\u001b[0m 1\n"
     ]
    },
    {
     "name": "stderr",
     "output_type": "stream",
     "text": [
      "C:\\Users\\adipr\\anaconda3\\lib\\site-packages\\IPython\\core\\interactiveshell.py:3452: UserWarning: To exit: use 'exit', 'quit', or Ctrl-D.\n",
      "  warn(\"To exit: use 'exit', 'quit', or Ctrl-D.\", stacklevel=1)\n"
     ]
    }
   ],
   "source": [
    "from flask import Flask, render_template, request, redirect, url_for, flash\n",
    "from werkzeug.utils import secure_filename\n",
    "import os\n",
    "import classifier\n",
    "\n",
    "app = Flask(__name__)\n",
    "app.config['UPLOAD_FOLDER'] = './static/upload/'\n",
    "app.config['SECRET_KEY'] = 'd3Y5d5nJkU6CdwY'\n",
    "if os.path.exists(app.config['UPLOAD_FOLDER']):\n",
    "    print(\"directory exists\")\n",
    "else:\n",
    "    os.makedirs(app.config['UPLOAD_FOLDER'])\n",
    "    print(\"directory created\")\n",
    "\n",
    "\n",
    "@app.route(\"/\", methods=[\"GET\", \"POST\"])\n",
    "def home():\n",
    "    algorithms = {'Neural Network': '92.26 %', 'Support Vector Classifier': '89 %'}\n",
    "    result, accuracy, name, sdk, size = '', '', '', '', ''\n",
    "    if request.method == \"POST\":\n",
    "        if 'file' not in request.files:\n",
    "            flash('No file part')\n",
    "            return redirect(request.url)\n",
    "        file = request.files['file']\n",
    "        # if user does not select file, browser also\n",
    "        # submit an empty part without filename\n",
    "        if file.filename == '':\n",
    "            flash('No selected file')\n",
    "            return redirect(request.url)\n",
    "        if file and file.filename.endswith('.apk'):\n",
    "            filename = secure_filename(file.filename)\n",
    "            print(filename)\n",
    "            file.save(os.path.join(app.config['UPLOAD_FOLDER'], filename))\n",
    "            if request.form['algorithm'] == 'Neural Network':\n",
    "                accuracy = algorithms['Neural Network']\n",
    "                result, name, sdk, size = classifier.classify(os.path.join(app.config['UPLOAD_FOLDER'], filename), 0)\n",
    "            elif request.form['algorithm'] == 'Support Vector Classifier':\n",
    "                accuracy = algorithms['Support Vector Classifier']\n",
    "                result, name, sdk, size = classifier.classify(os.path.join(app.config['UPLOAD_FOLDER'], filename), 1)\n",
    "    return render_template(\"index.html\", result=result, algorithms=algorithms.keys(), accuracy=accuracy, name=name,\n",
    "                           sdk=sdk, size=size)\n",
    "\n",
    "\n",
    "if __name__ == \"__main__\":  # on running python app.py\n",
    "    app.run(debug=True)  # run the flask app\n"
   ]
  },
  {
   "cell_type": "code",
   "execution_count": null,
   "id": "f17c338a",
   "metadata": {},
   "outputs": [],
   "source": []
  }
 ],
 "metadata": {
  "kernelspec": {
   "display_name": "Python 3 (ipykernel)",
   "language": "python",
   "name": "python3"
  },
  "language_info": {
   "codemirror_mode": {
    "name": "ipython",
    "version": 3
   },
   "file_extension": ".py",
   "mimetype": "text/x-python",
   "name": "python",
   "nbconvert_exporter": "python",
   "pygments_lexer": "ipython3",
   "version": "3.9.7"
  }
 },
 "nbformat": 4,
 "nbformat_minor": 5
}
